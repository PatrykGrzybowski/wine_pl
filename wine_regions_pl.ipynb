{
 "cells": [
  {
   "cell_type": "markdown",
   "metadata": {},
   "source": [
    "### Wine regions in Poland\n",
    "\n",
    "This project aims to find wine regions in Poland and describe meteorological conditions observed over them.\\\n",
    "It is going to cover topics like:\n",
    "- Find wine regions in Poland\n",
    "- Analyze meteorological conditions over discovered regions\n",
    "- Present how to use spatial-econometrics method to find spatial dependencies between geographical objects \n",
    "- Present how to obtain and analyze open meteorological data\n",
    "- Have fun with data ;)"
   ]
  },
  {
   "cell_type": "code",
   "execution_count": null,
   "metadata": {},
   "outputs": [],
   "source": [
    "import geopandas as gpd\n",
    "import libpysal as ps\n",
    "from esda.moran import Moran_Local\n",
    "import matplotlib.pyplot as plt\n",
    "import numpy as np\n",
    "from matplotlib.patches import FancyArrowPatch\n",
    "from sklearn.cluster import KMeans\n",
    "from matplotlib.lines import Line2D\n",
    "from shapely.geometry import MultiPolygon"
   ]
  },
  {
   "cell_type": "code",
   "execution_count": null,
   "metadata": {},
   "outputs": [],
   "source": [
    "gminy = gpd.read_file('shp/gminy.shp')"
   ]
  },
  {
   "cell_type": "code",
   "execution_count": null,
   "metadata": {},
   "outputs": [],
   "source": [
    "w_weights = ps.weights.Queen.from_dataframe(gminy)\n",
    "moran_loc = Moran_Local(gminy['winnice'], w_weights)\n",
    "\n",
    "# Local Moran's I value\n",
    "local_moran_i = moran_loc.Is\n",
    "gminy['Local_Moran_I'] = local_moran_i"
   ]
  },
  {
   "cell_type": "code",
   "execution_count": null,
   "metadata": {},
   "outputs": [],
   "source": [
    "# Create a function to classify values into four categories\n",
    "def classify_moran_i(value, threshold):\n",
    "    if value >= threshold:\n",
    "        return 'HH'\n",
    "    else:\n",
    "        return 'LL'\n",
    "\n",
    "# Define a threshold for HIGH values (2 is based on general knowledge on the topic)\n",
    "hh_threshold = 2\n",
    "\n",
    "gminy['Moran_Class'] = [classify_moran_i(i, hh_threshold) for i in local_moran_i]\n",
    "\n",
    "# Update classification for LH and HL based on Moran's I values\n",
    "for i in range(len(gminy)):\n",
    "    if local_moran_i[i] < 0 and gminy['Moran_Class'][i] == 'HH':\n",
    "        gminy['Moran_Class'][i] = 'LH'\n",
    "    elif local_moran_i[i] < 0 and gminy['Moran_Class'][i] == 'LL':\n",
    "        gminy['Moran_Class'][i] = 'HL'"
   ]
  },
  {
   "cell_type": "code",
   "execution_count": null,
   "metadata": {},
   "outputs": [],
   "source": [
    "# Create a map of the classification\n",
    "fig, ax = plt.subplots(figsize=(8, 8))\n",
    "gminy.plot(column='Moran_Class', cmap='coolwarm', ax=ax, legend=True)\n",
    "ax.set_title('Local Moran\\'s I Classification (Threshold = {})'.format(hh_threshold))\n",
    "\n",
    "plt.show()"
   ]
  }
 ],
 "metadata": {
  "kernelspec": {
   "display_name": "winepl",
   "language": "python",
   "name": "python3"
  },
  "language_info": {
   "codemirror_mode": {
    "name": "ipython",
    "version": 3
   },
   "file_extension": ".py",
   "mimetype": "text/x-python",
   "name": "python",
   "nbconvert_exporter": "python",
   "pygments_lexer": "ipython3",
   "version": "3.12.2"
  }
 },
 "nbformat": 4,
 "nbformat_minor": 2
}
